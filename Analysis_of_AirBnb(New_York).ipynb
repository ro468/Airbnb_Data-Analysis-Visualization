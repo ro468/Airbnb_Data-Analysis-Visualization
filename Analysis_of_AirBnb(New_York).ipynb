{
 "cells": [
  {
   "cell_type": "markdown",
   "metadata": {
    "id": "0BUgJyd6D50f"
   },
   "source": [
    "# Analysis of airbnb(NEW YORK CITY):\n"
   ]
  },
  {
   "cell_type": "markdown",
   "metadata": {
    "id": "LUgHHdJsDnLQ"
   },
   "source": [
    "The dataset contains detailed information on Airbnb listings, reviews, and neighbourhoods in new york city. It includes listing-related attributes such as geographical coordinates, room types, pricing, host details, and booking specifics. Additionally, it captures neighbourhood classifications and comprehensive reviews from guests, including textual feedback and ratings. With multiple entries across various global cities, this dataset offers a comprehensive view of the Airbnb market, providing insights into hospitality trends, guest preferences, and regional accommodation specifics.\n"
   ]
  },
  {
   "cell_type": "markdown",
   "metadata": {
    "id": "JFGbGx7yE3vu"
   },
   "source": [
    "# DATASET ATTRIBUTES:"
   ]
  },
  {
   "cell_type": "markdown",
   "metadata": {
    "id": "LZrU7bSuFUBo"
   },
   "source": [
    "# LISTINGS.CSV"
   ]
  },
  {
   "cell_type": "markdown",
   "metadata": {
    "id": "Aq4fb9wjEshU"
   },
   "source": [
    "id                               : Listing ID  \n",
    "name                             : Listing Name  \n",
    "host_id                          : Host ID  \n",
    "host_name                        : Host Name  \n",
    "neighbourhood_group              : Neighbourhood Group (Name of the specific neighbourhood)    \n",
    "neighbourhood                    : Neighbourhood (Name of the city or area within the city)    \n",
    "latitude                         : Latitude (Coordinates of the place)  \n",
    "longitude                        : Longitude (Coordinates of the place)  \n",
    "room_type                        : Room Type  \n",
    "price                            : Price per Night  \n",
    "minimum_nights                   : Minimum Nights Stayed  \n",
    "number_of_reviews                : Number of Reviews Given  \n",
    "last_review                      : Date of the Last Review  \n",
    "reviews_per_month                : Reviews Per Month  \n",
    "calculated_host_listings_count   : Count of Host Listings  \n",
    "availability_365                 : Availability of the Room (Number of days available in a year)  \n",
    "number_of_reviews_ltm            : Number of Reviews Last Twelve Months  \n",
    "license                          : License of the listing  "
   ]
  },
  {
   "cell_type": "markdown",
   "metadata": {
    "id": "PfXtJV4JFY7W"
   },
   "source": [
    "# NEIGHBOURHOODS.CSV\n"
   ]
  },
  {
   "cell_type": "markdown",
   "metadata": {
    "id": "Mi79QmwB3lPZ"
   },
   "source": [
    "neighbourhood_group    : Neighbourhood Group  \n",
    "neighbourhood          : Neighbourhood  "
   ]
  },
  {
   "cell_type": "markdown",
   "metadata": {
    "id": "Va2biQ0yFfWd"
   },
   "source": [
    "# REVIEWS.CSV"
   ]
  },
  {
   "cell_type": "markdown",
   "metadata": {
    "id": "XedLrmU7Dd9Y"
   },
   "source": [
    "listing_id         : Listing ID  \n",
    "date               : Date of Review  "
   ]
  },
  {
   "cell_type": "markdown",
   "metadata": {
    "id": "HKcdkRqSFzGw"
   },
   "source": [
    "# IMPORTING LIBRARIES"
   ]
  },
  {
   "cell_type": "code",
   "execution_count": null,
   "metadata": {
    "id": "rm9kdJl4F2pm"
   },
   "outputs": [],
   "source": [
    "import pandas as pd\n",
    "import numpy as np\n",
    "import matplotlib.pyplot as plt\n",
    "import seaborn as sns\n",
    "import warnings\n",
    "warnings.filterwarnings(\"ignore\")\n"
   ]
  },
  {
   "cell_type": "markdown",
   "metadata": {
    "id": "728P12qbGL-i"
   },
   "source": [
    "# LOADING THE DATA SET"
   ]
  },
  {
   "cell_type": "code",
   "execution_count": null,
   "metadata": {
    "id": "lbSHsUQBGIeq"
   },
   "outputs": [],
   "source": [
    "df1=pd.read_csv(r'listings.csv')"
   ]
  },
  {
   "cell_type": "code",
   "execution_count": null,
   "metadata": {
    "id": "eSlWgx2SGZB8"
   },
   "outputs": [],
   "source": [
    "df2=pd.read_csv(r'neighbourhoods.csv')"
   ]
  },
  {
   "cell_type": "code",
   "execution_count": null,
   "metadata": {
    "id": "m5JV40WkGiXi"
   },
   "outputs": [],
   "source": [
    "df3=pd.read_csv(r'reviews.csv')"
   ]
  },
  {
   "cell_type": "markdown",
   "metadata": {
    "id": "90FdSEEtGseg"
   },
   "source": [
    "# DATA PREPROCESSING"
   ]
  },
  {
   "cell_type": "markdown",
   "metadata": {
    "id": "YVZKu64nGzB6"
   },
   "source": [
    "# LISTINGS.CSV"
   ]
  },
  {
   "cell_type": "code",
   "execution_count": null,
   "metadata": {
    "colab": {
     "base_uri": "https://localhost:8080/",
     "height": 877
    },
    "id": "4R98GZYyGoUO",
    "outputId": "8f721570-414a-467e-e1c8-30058f799939"
   },
   "outputs": [],
   "source": [
    "df1"
   ]
  },
  {
   "cell_type": "code",
   "execution_count": null,
   "metadata": {
    "colab": {
     "base_uri": "https://localhost:8080/"
    },
    "id": "8aFG6bJR3lPc",
    "outputId": "5cee1467-8c61-412f-b433-b0df5b24b766"
   },
   "outputs": [],
   "source": [
    "df1['calculated_host_listings_count'].value_counts()"
   ]
  },
  {
   "cell_type": "code",
   "execution_count": null,
   "metadata": {
    "colab": {
     "base_uri": "https://localhost:8080/"
    },
    "id": "_qk2OHipG6hT",
    "outputId": "6fe11d20-4cd6-438b-c923-201e6107eb18"
   },
   "outputs": [],
   "source": [
    "df1.shape"
   ]
  },
  {
   "cell_type": "code",
   "execution_count": null,
   "metadata": {
    "colab": {
     "base_uri": "https://localhost:8080/"
    },
    "id": "exasROYtHCyW",
    "outputId": "8999dc3f-5158-476e-c382-c3a24f68aa9e"
   },
   "outputs": [],
   "source": [
    "df1.info()"
   ]
  },
  {
   "cell_type": "code",
   "execution_count": null,
   "metadata": {
    "colab": {
     "base_uri": "https://localhost:8080/"
    },
    "id": "ksl6YEMeHGDc",
    "outputId": "380f833f-79f3-410d-df63-47178138ec4f"
   },
   "outputs": [],
   "source": [
    "#checking for null values\n",
    "df1.isnull().any()"
   ]
  },
  {
   "cell_type": "code",
   "execution_count": null,
   "metadata": {
    "colab": {
     "base_uri": "https://localhost:8080/"
    },
    "id": "ws3oyh-0Hdb5",
    "outputId": "d32aaab2-5e5b-44bc-d2f3-13a7719a1b5f"
   },
   "outputs": [],
   "source": [
    "#checking for how many missing values\n",
    "df1.isnull().sum()"
   ]
  },
  {
   "cell_type": "code",
   "execution_count": null,
   "metadata": {
    "id": "vsurngCuHiVq"
   },
   "outputs": [],
   "source": [
    "# dropping the columns"
   ]
  },
  {
   "cell_type": "code",
   "execution_count": null,
   "metadata": {
    "id": "GedACtkMH1W3"
   },
   "outputs": [],
   "source": [
    "df1.drop(columns=['last_review', 'license'], inplace=True)"
   ]
  },
  {
   "cell_type": "code",
   "execution_count": null,
   "metadata": {
    "id": "3emdM2YyJiAB"
   },
   "outputs": [],
   "source": [
    "df1['reviews_per_month'].fillna(0, inplace=True)"
   ]
  },
  {
   "cell_type": "code",
   "execution_count": null,
   "metadata": {
    "colab": {
     "base_uri": "https://localhost:8080/"
    },
    "id": "JO3WApFWH_HS",
    "outputId": "1d188760-27f2-4e5e-9c06-d08df1ad6a2b"
   },
   "outputs": [],
   "source": [
    "df1.isnull().sum()"
   ]
  },
  {
   "cell_type": "code",
   "execution_count": null,
   "metadata": {
    "id": "6b6h5mlJM4z7"
   },
   "outputs": [],
   "source": [
    "# Calculate the average price for each combination of 'neighbourhood_group' and 'room_type'\n",
    "avg_prices = df1.groupby(['neighbourhood_group', 'room_type'])['price'].mean()\n",
    "\n",
    "# Replace NaN values in 'price' based on these averages\n",
    "df1['price'] = df1.apply(\n",
    "    lambda row: avg_prices[row['neighbourhood_group'], row['room_type']] if pd.isnull(row['price']) else row['price'],\n",
    "    axis=1\n",
    ")"
   ]
  },
  {
   "cell_type": "code",
   "execution_count": null,
   "metadata": {
    "id": "1fuLql7bLR5j"
   },
   "outputs": [],
   "source": [
    "df1['name'].fillna(\"Unknown\", inplace=True)\n",
    "df1['host_name'].fillna(\"Unknown\", inplace=True)"
   ]
  },
  {
   "cell_type": "code",
   "execution_count": null,
   "metadata": {
    "colab": {
     "base_uri": "https://localhost:8080/",
     "height": 877
    },
    "id": "vHEgfNj5OOTC",
    "outputId": "fe4be344-34b6-45c7-d8a9-640bc9fb5746"
   },
   "outputs": [],
   "source": [
    "df1"
   ]
  },
  {
   "cell_type": "code",
   "execution_count": null,
   "metadata": {
    "colab": {
     "base_uri": "https://localhost:8080/"
    },
    "id": "tjbgS8nYPbek",
    "outputId": "ad31a7b7-7b49-423d-cd78-e89551053677"
   },
   "outputs": [],
   "source": [
    "df1.isnull().sum()"
   ]
  },
  {
   "cell_type": "markdown",
   "metadata": {
    "id": "lQLkiDVLQR5d"
   },
   "source": [
    "# neighbourhoods.csv"
   ]
  },
  {
   "cell_type": "code",
   "execution_count": null,
   "metadata": {
    "colab": {
     "base_uri": "https://localhost:8080/",
     "height": 424
    },
    "id": "3t97fmvFP2cT",
    "outputId": "6d3d45c0-1027-483a-ae10-7b1af8a48aba"
   },
   "outputs": [],
   "source": [
    "df2"
   ]
  },
  {
   "cell_type": "code",
   "execution_count": null,
   "metadata": {
    "colab": {
     "base_uri": "https://localhost:8080/"
    },
    "id": "red3oUz_QYIS",
    "outputId": "ebcb9825-b529-4c67-9675-0278c7dc59fb"
   },
   "outputs": [],
   "source": [
    "df2.shape"
   ]
  },
  {
   "cell_type": "code",
   "execution_count": null,
   "metadata": {
    "colab": {
     "base_uri": "https://localhost:8080/"
    },
    "id": "lDnSPx0rQcu3",
    "outputId": "d490cf46-6f6a-4977-9362-ffd6672dbd1d"
   },
   "outputs": [],
   "source": [
    "df2.info()"
   ]
  },
  {
   "cell_type": "code",
   "execution_count": null,
   "metadata": {
    "colab": {
     "base_uri": "https://localhost:8080/"
    },
    "id": "BIymhK4YQfdN",
    "outputId": "31621f97-6b4a-417f-a91f-6feea92b73a3"
   },
   "outputs": [],
   "source": [
    "df2.isnull().any()"
   ]
  },
  {
   "cell_type": "code",
   "execution_count": null,
   "metadata": {
    "colab": {
     "base_uri": "https://localhost:8080/"
    },
    "id": "J7zX_rhfQkU1",
    "outputId": "f698ca3b-7983-4642-8d9b-9843e070bde0"
   },
   "outputs": [],
   "source": [
    "df2.isnull().sum()"
   ]
  },
  {
   "cell_type": "markdown",
   "metadata": {
    "id": "MkzrV-lZMMny"
   },
   "source": [
    "# Reviews.csv\n"
   ]
  },
  {
   "cell_type": "code",
   "execution_count": null,
   "metadata": {
    "colab": {
     "base_uri": "https://localhost:8080/",
     "height": 424
    },
    "id": "zqAaB3aFQo63",
    "outputId": "94ee15ce-8189-4337-97b9-23cb511804f6"
   },
   "outputs": [],
   "source": [
    "df3"
   ]
  },
  {
   "cell_type": "code",
   "execution_count": null,
   "metadata": {
    "colab": {
     "base_uri": "https://localhost:8080/"
    },
    "id": "TrKt1kxLQ0Wf",
    "outputId": "fc766c63-0fa4-44f5-da00-3a1eb203f08b"
   },
   "outputs": [],
   "source": [
    "df3.isnull().any()"
   ]
  },
  {
   "cell_type": "markdown",
   "metadata": {
    "id": "-8UCxR2TNgM-"
   },
   "source": [
    "# Merging"
   ]
  },
  {
   "cell_type": "code",
   "execution_count": null,
   "metadata": {
    "colab": {
     "base_uri": "https://localhost:8080/",
     "height": 877
    },
    "id": "vlpDkJjHQ5aI",
    "outputId": "42e0d569-c9d1-45b6-f55a-0d307f20ac16"
   },
   "outputs": [],
   "source": [
    "df4 = pd.merge(df1, df2, on=['neighbourhood_group', 'neighbourhood'], how='left')\n",
    "df4\n",
    "\n"
   ]
  },
  {
   "cell_type": "code",
   "execution_count": null,
   "metadata": {
    "colab": {
     "base_uri": "https://localhost:8080/"
    },
    "id": "K4gUbk9gO-FL",
    "outputId": "fd9147d3-a280-4f15-8194-d3ad939b95a8"
   },
   "outputs": [],
   "source": [
    "df4.isnull().any()"
   ]
  },
  {
   "cell_type": "code",
   "execution_count": null,
   "metadata": {
    "id": "tJShHVA-Kalo"
   },
   "outputs": [],
   "source": []
  },
  {
   "cell_type": "markdown",
   "metadata": {
    "id": "usdIr6ZTQ1J-"
   },
   "source": [
    "# DATA ANALYSIS USING DESCRIPTIVE STATISTICS"
   ]
  },
  {
   "cell_type": "markdown",
   "metadata": {
    "id": "DcZn2uuQQ6qM"
   },
   "source": [
    "# Summary Statistics"
   ]
  },
  {
   "cell_type": "code",
   "execution_count": null,
   "metadata": {
    "colab": {
     "base_uri": "https://localhost:8080/",
     "height": 300
    },
    "id": "k_LB_YsSPhdw",
    "outputId": "9f778d99-2cc4-43c0-d922-167ed6c355ad"
   },
   "outputs": [],
   "source": [
    "df4.drop(columns=['id','host_id','latitude','longitude']).describe()"
   ]
  },
  {
   "cell_type": "markdown",
   "metadata": {},
   "source": [
    "# DATA VISUALIZATION"
   ]
  },
  {
   "cell_type": "markdown",
   "metadata": {
    "id": "Sy5cVjKZQhnL"
   },
   "source": [
    "# Map Visualizations"
   ]
  },
  {
   "cell_type": "code",
   "execution_count": null,
   "metadata": {
    "id": "DyltgPlmKalp"
   },
   "outputs": [],
   "source": [
    "#pip install pandas numpy shapely fiona descartes\n"
   ]
  },
  {
   "cell_type": "code",
   "execution_count": null,
   "metadata": {
    "id": "IhvqmxIXKalp"
   },
   "outputs": [],
   "source": [
    "#pip install geopandas\n"
   ]
  },
  {
   "cell_type": "markdown",
   "metadata": {
    "id": "elziKB-t3lPh"
   },
   "source": [
    "# Choropleth Map"
   ]
  },
  {
   "cell_type": "markdown",
   "metadata": {},
   "source": [
    "# How does the average price vary across different neighbourhood groups in New York City?"
   ]
  },
  {
   "cell_type": "code",
   "execution_count": null,
   "metadata": {
    "colab": {
     "base_uri": "https://localhost:8080/",
     "height": 992
    },
    "id": "XrX3wt_7MBM1",
    "outputId": "56c8a6e9-f14d-43b4-ee98-0e5c682db6ff"
   },
   "outputs": [],
   "source": [
    "import folium\n",
    "import pandas as pd\n",
    "\n",
    "# Load GeoJSON file containing New York neighborhood boundaries\n",
    "geo_json_path = 'neighbourhoods.geojson'\n",
    "\n",
    "# Calculate the average price by neighborhood group\n",
    "avg_price_by_group = df4.groupby('neighbourhood_group')['price'].mean().reset_index()\n",
    "\n",
    "# Create a Folium map centered at New York\n",
    "ny_map = folium.Map(location=[40.7128, -74.0060], zoom_start=10)\n",
    "\n",
    "# Add choropleth layer to the map\n",
    "folium.Choropleth(\n",
    "    geo_data=geo_json_path,\n",
    "    name=\"Average Price of Airbnb Listings\",\n",
    "    data=avg_price_by_group,\n",
    "    columns=[\"neighbourhood_group\", \"price\"],\n",
    "    key_on=\"feature.properties.neighbourhood_group\",\n",
    "    fill_color='YlOrRd',\n",
    "    fill_opacity=0.9,\n",
    "    line_opacity=0.5,\n",
    "    legend_name=\"Average Price of Airbnb Listings\"\n",
    ").add_to(ny_map)\n",
    "\n",
    "# Display the map\n",
    "ny_map\n",
    "\n"
   ]
  },
  {
   "cell_type": "code",
   "execution_count": null,
   "metadata": {
    "colab": {
     "base_uri": "https://localhost:8080/",
     "height": 206
    },
    "id": "kJqsNUOVMBQp",
    "outputId": "32eabfc7-da9f-4c41-9f2c-c18200c7bb90"
   },
   "outputs": [],
   "source": [
    "avg_price_by_group"
   ]
  },
  {
   "cell_type": "markdown",
   "metadata": {
    "id": "Oe8U2hG-MBb9"
   },
   "source": [
    "# Bubble Map\n"
   ]
  },
  {
   "cell_type": "markdown",
   "metadata": {
    "id": "jpC9MXa93lPj"
   },
   "source": [
    "# Can we visualize the distribution of listings based on their room type and price?"
   ]
  },
  {
   "cell_type": "code",
   "execution_count": null,
   "metadata": {
    "colab": {
     "base_uri": "https://localhost:8080/",
     "height": 542
    },
    "id": "VQjrTGu93lPj",
    "outputId": "d4cb3033-4d1d-4243-e92c-eb0e33c4f36b"
   },
   "outputs": [],
   "source": [
    "import plotly.express as px\n",
    "\n",
    "df = df4[['latitude', 'longitude', 'room_type', 'price']]\n",
    "\n",
    "# Create the bubble map using Plotly Express\n",
    "fig = px.scatter_mapbox(df,\n",
    "                         lat=\"latitude\",\n",
    "                         lon=\"longitude\",\n",
    "                         color=\"room_type\",\n",
    "                         size=\"price\",\n",
    "                         color_discrete_sequence=[\"blue\", \"green\", \"red\", \"brown\"],\n",
    "                         size_max=15,  # Maximum bubble size\n",
    "                         hover_name=\"room_type\",\n",
    "                         hover_data={\"latitude\": False, \"longitude\": False, \"price\": \":.2f\"}, \n",
    "                         mapbox_style=\"carto-positron\",  # Map style\n",
    "                         zoom=10,  # Initial zoom level\n",
    "                         title=\"Distribution of Listings by Room Type and Price\"\n",
    "                        )\n",
    "\n",
    "# Update layout\n",
    "fig.update_layout(\n",
    "    margin=dict(l=0, r=0, t=50, b=0),  # Adjust margins\n",
    "    legend_title=\"Room Type\",  # Legend title\n",
    "    showlegend=True,  # Show legend\n",
    "    updatemenus=[\n",
    "        {\n",
    "            \"buttons\": [\n",
    "                {\n",
    "                    \"label\": \"All\",\n",
    "                    \"method\": \"update\",\n",
    "                    \"args\": [{\"visible\": [True, True, True, True]}, {\"title\": \"All Listings\"}],\n",
    "                },\n",
    "                {\n",
    "                    \"label\": \"Entire home/apt\",\n",
    "                    \"method\": \"update\",\n",
    "                    \"args\": [{\"visible\": [True, False, False, False]}, {\"title\": \"Entire Home/Apt Listings(Blue Color)\"}],\n",
    "                },\n",
    "                {\n",
    "                    \"label\": \"Private room\",\n",
    "                    \"method\": \"update\",\n",
    "                    \"args\": [{\"visible\": [False, True, False, False]}, {\"title\": \"Private Room Listings(Green Color)\"}],\n",
    "                },\n",
    "                {\n",
    "                    \"label\": \"Shared room\",\n",
    "                    \"method\": \"update\",\n",
    "                    \"args\": [{\"visible\": [False, False, True, False]}, {\"title\": \"Shared Room Listings(Red Color)\"}],\n",
    "                },\n",
    "                {\n",
    "                    \"label\": \"Hotel room\",\n",
    "                    \"method\": \"update\",\n",
    "                    \"args\": [{\"visible\": [False, False, False, True]}, {\"title\": \"Hotel Room Listings(Brown Color)\"}],\n",
    "                },\n",
    "            ]\n",
    "        }\n",
    "    ]\n",
    ")\n",
    "\n",
    "# Show the bubble map\n",
    "fig.show()\n"
   ]
  },
  {
   "cell_type": "code",
   "execution_count": null,
   "metadata": {
    "id": "KGq0uJRh3lPk"
   },
   "outputs": [],
   "source": []
  },
  {
   "cell_type": "markdown",
   "metadata": {
    "id": "FvTJH2hy3lPk"
   },
   "source": [
    "# INTERACTIVE VISUALIZATION"
   ]
  },
  {
   "cell_type": "markdown",
   "metadata": {
    "id": "ukwyDUW33lPl"
   },
   "source": [
    "# Interactive Aggregation Visualization"
   ]
  },
  {
   "cell_type": "markdown",
   "metadata": {
    "id": "oLqXEFzo3lPl"
   },
   "source": [
    "# Are there any noticeable differences in the average price or room type distribution between Manhattan, Brooklyn, Queens, and other boroughs?"
   ]
  },
  {
   "cell_type": "code",
   "execution_count": null,
   "metadata": {
    "colab": {
     "base_uri": "https://localhost:8080/",
     "height": 672
    },
    "id": "XPmG_Q9H3lPl",
    "outputId": "f3e20501-17b2-4c63-f1ab-5c7c6059f85b"
   },
   "outputs": [],
   "source": [
    "import pandas as pd\n",
    "import plotly.graph_objs as go\n",
    "import dash\n",
    "from dash import dcc, html, Input, Output\n",
    "\n",
    "\n",
    "df = df4\n",
    "\n",
    "# Initialize Dash app\n",
    "app = dash.Dash(__name__)\n",
    "\n",
    "# Define layout\n",
    "app.layout = html.Div([\n",
    "    html.Label('Select Neighbourhood Group:'),\n",
    "    dcc.Dropdown(\n",
    "        id='neighbourhood-dropdown',\n",
    "        options=[{'label': group, 'value': group} for group in df['neighbourhood_group'].unique()],\n",
    "        value=df['neighbourhood_group'].unique(),  # Set default value to all groups\n",
    "        multi=True  # Allow multiple selections\n",
    "    ),\n",
    "    html.Div(id='charts-container')\n",
    "])\n",
    "\n",
    "# Define callback for updating charts\n",
    "@app.callback(\n",
    "    Output('charts-container', 'children'),\n",
    "    [Input('neighbourhood-dropdown', 'value')]\n",
    ")\n",
    "def update_charts(selected_neighbourhoods):\n",
    "    charts = []\n",
    "    for neighbourhood in selected_neighbourhoods:\n",
    "        # Filter data for selected neighbourhood\n",
    "        filtered_df = df[df['neighbourhood_group'] == neighbourhood]\n",
    "\n",
    "        # Create bar chart for average price by room type\n",
    "        avg_price_by_room = filtered_df.groupby('room_type')['price'].mean().reset_index()\n",
    "        bar_chart = dcc.Graph(\n",
    "            figure={\n",
    "                'data': [go.Bar(x=avg_price_by_room['room_type'], y=avg_price_by_room['price'])],\n",
    "                'layout': {\n",
    "                    'title': f'Average Price by Room Type in {neighbourhood}',\n",
    "                    'xaxis': {'title': 'Room Type'},\n",
    "                    'yaxis': {'title': 'Average Price'}\n",
    "                }\n",
    "            }\n",
    "        )\n",
    "        charts.append(bar_chart)\n",
    "\n",
    "        # Create pie chart for distribution of room types\n",
    "        room_type_distribution = filtered_df['room_type'].value_counts()\n",
    "        pie_chart = dcc.Graph(\n",
    "            figure={\n",
    "                'data': [go.Pie(labels=room_type_distribution.index, values=room_type_distribution.values)],\n",
    "                'layout': {\n",
    "                    'title': f'Distribution of Room Types in {neighbourhood}'\n",
    "                }\n",
    "            }\n",
    "        )\n",
    "        charts.append(pie_chart)\n",
    "\n",
    "    return charts\n",
    "\n",
    "# Run the app\n",
    "if __name__ == '__main__':\n",
    "    app.run_server(debug=True)"
   ]
  },
  {
   "cell_type": "markdown",
   "metadata": {
    "id": "v5oje_683lPm"
   },
   "source": [
    "# Interactive Map Visualization\n",
    "## Can we add interactivity to allow users to filter neighborhood groups by price ranges?\n"
   ]
  },
  {
   "cell_type": "code",
   "execution_count": null,
   "metadata": {
    "colab": {
     "base_uri": "https://localhost:8080/",
     "height": 542
    },
    "id": "Zg5_t7073lPm",
    "outputId": "d3297380-0b23-4eec-b147-374f9ed6bc72"
   },
   "outputs": [],
   "source": [
    "import plotly.graph_objects as go\n",
    "\n",
    "df = df4\n",
    "\n",
    "# Define colors for different neighbourhood groups\n",
    "neighborhood_colors = {\n",
    "    \"Manhattan\": \"rgb(255, 127, 14)\",  # Orange\n",
    "    \"Queens\": \"rgb(44, 160, 44)\",       # Green\n",
    "    \"Brooklyn\": \"rgb(31, 119, 180)\",    # Blue\n",
    "    \"Bronx\": \"rgb(214, 39, 40)\",        # Red\n",
    "    \"Staten Island\": \"rgb(148, 103, 189)\"  # Purple\n",
    "}\n",
    "\n",
    "# Define price ranges\n",
    "price_ranges = {\n",
    "    \"All\": (0, float('inf')),\n",
    "    \"Below 100\": (0, 100),\n",
    "    \"100-200\": (100, 200),\n",
    "    \"200-500\": (200, 500),\n",
    "    \"500-1000\": (500, 1000),\n",
    "    \"1000-5000\": (1000,5000),\n",
    "    \"Above 5000\": (5000, float('inf'))\n",
    "}\n",
    "\n",
    "# Create initial map figure\n",
    "fig = go.Figure()\n",
    "\n",
    "# Add traces for each neighbourhood group\n",
    "for neighborhood, color in neighborhood_colors.items():\n",
    "    # Add \"All\" option for each neighborhood group\n",
    "    all_data = df[(df['neighbourhood_group'] == neighborhood)]\n",
    "    fig.add_trace(go.Scattermapbox(\n",
    "        lat=all_data['latitude'],\n",
    "        lon=all_data['longitude'],\n",
    "        mode='markers',\n",
    "        marker=dict(\n",
    "            size=8,\n",
    "            color=color,\n",
    "            opacity=0.7\n",
    "        ),\n",
    "        visible=True,  # Initially display \"All\" for each neighborhood group\n",
    "        name=f\"{neighborhood} - All\",\n",
    "        hoverinfo='text',\n",
    "        text=all_data.apply(lambda row: f\"Neighbourhood: {row['neighbourhood_group']}<br>Price: ${row['price']}<br>Listing Name: {row['name']}\", axis=1)\n",
    "    ))\n",
    "\n",
    "    # Add traces for other price ranges\n",
    "    for price_range, (min_price, max_price) in price_ranges.items():\n",
    "        if price_range != \"All\":\n",
    "            filtered_data = df[(df['neighbourhood_group'] == neighborhood) &\n",
    "                               (df['price'] >= min_price if min_price is not None else True) &\n",
    "                               (df['price'] < max_price if max_price is not None else True)]\n",
    "            fig.add_trace(go.Scattermapbox(\n",
    "                lat=filtered_data['latitude'],\n",
    "                lon=filtered_data['longitude'],\n",
    "                mode='markers',\n",
    "                marker=dict(\n",
    "                    size=8,\n",
    "                    color=color,\n",
    "                    opacity=0.7\n",
    "                ),\n",
    "                visible=False,\n",
    "                name=f\"{neighborhood} - {price_range}\",\n",
    "                hoverinfo='text',\n",
    "                text=filtered_data.apply(lambda row: f\"Neighbourhood: {row['neighbourhood_group']}<br>Price: ${row['price']}<br>Listing Name: {row['name']}\", axis=1)\n",
    "            ))\n",
    "\n",
    "# Define layout\n",
    "fig.update_layout(\n",
    "    mapbox=dict(\n",
    "        style=\"carto-positron\",\n",
    "        zoom=10,\n",
    "        center=dict(lat=40.7128, lon=-74.0060)\n",
    "    ),\n",
    "    margin=dict(l=50, r=0, t=100, b=0),\n",
    "    title=\"Distribution of Listings by Neighbourhood Group w.r.t Price Ranges\"\n",
    ")\n",
    "\n",
    "# Create dropdown menu for price ranges\n",
    "buttons = [\n",
    "    dict(label=price_range,\n",
    "         method=\"update\",\n",
    "         args=[{\"visible\": [(price_range in trace.name) for trace in fig.data]},\n",
    "               {}]\n",
    "         )\n",
    "    for price_range in price_ranges.keys()\n",
    "]\n",
    "# Add dropdown menu to update the visibility of traces\n",
    "fig.update_layout(\n",
    "    updatemenus=[\n",
    "        dict(\n",
    "            buttons=buttons,\n",
    "            direction=\"down\",\n",
    "            showactive=True,\n",
    "            x=0.65,\n",
    "            xanchor=\"right\",\n",
    "            y=1.08,\n",
    "            yanchor=\"top\"\n",
    "        ),\n",
    "    ]\n",
    ")\n",
    "# Show the interactive map\n",
    "fig.show()\n"
   ]
  },
  {
   "cell_type": "markdown",
   "metadata": {
    "id": "J01Pvmd0FEo7"
   },
   "source": [
    "# Aggregation visualisation\n",
    "## BOX PLOT\n",
    "### How does the distribution of prices vary among different room types?"
   ]
  },
  {
   "cell_type": "code",
   "execution_count": null,
   "metadata": {},
   "outputs": [],
   "source": [
    "#df4.groupby('room_type')['price'].describe()"
   ]
  },
  {
   "cell_type": "code",
   "execution_count": null,
   "metadata": {
    "colab": {
     "base_uri": "https://localhost:8080/",
     "height": 564
    },
    "id": "2nDuDHM3879s",
    "outputId": "cf249239-320e-425f-8656-f52f01d44a09"
   },
   "outputs": [],
   "source": [
    "# Create a box plot for the price distribution by room type\n",
    "plt.figure(figsize=(10, 6))\n",
    "sns.boxplot(x='room_type', y='price', data=df4)\n",
    "plt.title('Distribution of Prices by Room Type')\n",
    "plt.xlabel('Room Type')\n",
    "plt.ylabel('Price ($)')\n",
    "plt.ylim(0, 1000)\n",
    "plt.show()\n"
   ]
  },
  {
   "cell_type": "markdown",
   "metadata": {
    "id": "gzs6MQXvF4Op"
   },
   "source": [
    "# SCATTER PLOT\n",
    "## Is there any correlation between the price of listings and the number of reviews they receive?"
   ]
  },
  {
   "cell_type": "code",
   "execution_count": null,
   "metadata": {
    "scrolled": true
   },
   "outputs": [],
   "source": [
    "import seaborn as sns\n",
    "import matplotlib.pyplot as plt\n",
    "\n",
    "# Define predefined colors for each room type\n",
    "room_type_colors = {\n",
    "    'Entire home/apt': 'blue',\n",
    "    'Hotel room': 'green',\n",
    "    'Private room': 'red',\n",
    "    'Shared room': 'purple'\n",
    "}\n",
    "\n",
    "# Create a continuous scatter plot\n",
    "plt.figure(figsize=(10, 6))\n",
    "sns.scatterplot(x='price', y='number_of_reviews', data=df4, hue='room_type', palette=room_type_colors)\n",
    "plt.xlabel('Price ($)')\n",
    "plt.ylabel('Number of Reviews')\n",
    "plt.title('Continuous Scatter Plot of Price vs Number of Reviews')\n",
    "plt.legend(title='Room Type', loc='upper right')\n",
    "plt.xlim(0, 2000)  # Limiting the x-axis to focus on a typical price range and improve readability\n",
    "plt.ylim(0, 1000) # Limiting the y-axis to a reasonable number of reviews for better visualization\n",
    "plt.show()\n"
   ]
  },
  {
   "cell_type": "code",
   "execution_count": null,
   "metadata": {},
   "outputs": [],
   "source": []
  }
 ],
 "metadata": {
  "colab": {
   "provenance": []
  },
  "kernelspec": {
   "display_name": "Python 3 (ipykernel)",
   "language": "python",
   "name": "python3"
  },
  "language_info": {
   "codemirror_mode": {
    "name": "ipython",
    "version": 3
   },
   "file_extension": ".py",
   "mimetype": "text/x-python",
   "name": "python",
   "nbconvert_exporter": "python",
   "pygments_lexer": "ipython3",
   "version": "3.11.4"
  }
 },
 "nbformat": 4,
 "nbformat_minor": 1
}
